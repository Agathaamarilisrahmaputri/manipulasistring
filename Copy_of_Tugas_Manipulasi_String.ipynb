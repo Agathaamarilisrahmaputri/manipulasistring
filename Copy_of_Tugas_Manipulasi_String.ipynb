{
  "nbformat": 4,
  "nbformat_minor": 0,
  "metadata": {
    "colab": {
      "provenance": [],
      "include_colab_link": true
    },
    "kernelspec": {
      "name": "python3",
      "display_name": "Python 3"
    },
    "language_info": {
      "name": "python"
    }
  },
  "cells": [
    {
      "cell_type": "markdown",
      "metadata": {
        "id": "view-in-github",
        "colab_type": "text"
      },
      "source": [
        "<a href=\"https://colab.research.google.com/github/Agathaamarilisrahmaputri/manipulasistring/blob/main/Copy_of_Tugas_Manipulasi_String.ipynb\" target=\"_parent\"><img src=\"https://colab.research.google.com/assets/colab-badge.svg\" alt=\"Open In Colab\"/></a>"
      ]
    },
    {
      "cell_type": "markdown",
      "source": [
        "buatlah class Catatan dengan atribut\n",
        "1. nama (string)\n",
        "2. nomor_absen (intejer)\n",
        "3. catatan (string)\n",
        "\n",
        "buat fungsi untuk\n",
        "1. menggabungkan semua atribut diatas menjadi sebuah kalimat menggunakan pertambahan string\n",
        "2. menampilkan kalimat gabungan semua atribut\n",
        "3. mencari kata dalam sebuah kalimat menggunakan fungsi in\n",
        "4. menggandakan jumlah kalimat menggunakan tanda perkalian *\n",
        "5. menghitung jumlah huruf dalam kalimat menggunakan len\n",
        "6. mencari kata pertama dalam kalimat menggunakan startswith"
      ],
      "metadata": {
        "id": "AIkziXKoHrlK"
      }
    },
    {
      "cell_type": "code",
      "source": [
        "#desain class\n",
        "class Catatan:\n",
        "  def __init__(self,nama,no_absen,catatan):\n",
        "    self.nama = nama\n",
        "    self.no_absen = no_absen\n",
        "    self.catatan = catatan\n",
        "\n",
        "  def gabung(self):\n",
        "    kalimat = self.nama + str(self.no_absen) + self.catatan\n",
        "    return kalimat\n",
        "\n",
        "  def tampil(self,kalimat):\n",
        "    print(kalimat)\n",
        "\n",
        "  def cari(self,kalimat):\n",
        "    print('atha' in kalimat)\n",
        "\n",
        "  def duplikasi(self,kalimat):\n",
        "    print(kalimat * 1)\n",
        "\n",
        "  def jumlah(self,kalimat):\n",
        "    print(len(kalimat))\n",
        "\n",
        "  def kataawal(self,kalimat):\n",
        "    print(kalimat.startswith('atha'))\n"
      ],
      "metadata": {
        "id": "_YQuLGp_IA93"
      },
      "execution_count": 7,
      "outputs": []
    },
    {
      "cell_type": "code",
      "source": [
        "#main program\n",
        "siswi = Catatan('Agatha' ,3 ,'sakit')\n",
        "\n",
        "siswi.gabung()\n",
        "siswi.tampil(siswi.gabung())\n",
        "siswi.cari(siswi.gabung())\n",
        "siswi.duplikasi(siswi.gabung())\n",
        "siswi.jumlah(siswi.gabung())\n",
        "siswi.kataawal(siswi.gabung())"
      ],
      "metadata": {
        "id": "QdIPVcTJID9Q",
        "colab": {
          "base_uri": "https://localhost:8080/"
        },
        "outputId": "e3a0c236-7bb2-4a47-d585-1b3963f43cb2"
      },
      "execution_count": 8,
      "outputs": [
        {
          "output_type": "stream",
          "name": "stdout",
          "text": [
            "Agatha3sakit\n",
            "True\n",
            "Agatha3sakit\n",
            "12\n",
            "False\n"
          ]
        }
      ]
    }
  ]
}